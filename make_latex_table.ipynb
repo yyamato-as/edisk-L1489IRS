{
 "cells": [
  {
   "cell_type": "code",
   "execution_count": 55,
   "metadata": {},
   "outputs": [
    {
     "data": {
      "text/plain": [
       "'0$\\\\farcs$10$\\\\times$0$\\\\farcs$10 (46$\\\\arcdeg$)'"
      ]
     },
     "execution_count": 55,
     "metadata": {},
     "output_type": "execute_result"
    }
   ],
   "source": [
    "from astropy.table import Table\n",
    "from linedictionary import line_dict\n",
    "from eDiskplot import linelabel_noqn\n",
    "import pickle\n",
    "import astropy.units as u\n",
    "import astropy.constants as ac\n",
    "\n",
    "c = ac.c.to(u.km / u.s).value\n",
    "\n",
    "\n",
    "def dnu_to_dv(dnu, nu0):\n",
    "    return dnu / nu0 * c\n",
    "\n",
    "\n",
    "def get_spectroscopic_param_list(param_dict):\n",
    "    return [\n",
    "        str(param_dict[\"qn\"]),\n",
    "        str(param_dict[\"freq\"]),\n",
    "        \"{:.3g}\".format(param_dict[\"E_u\"]),\n",
    "        \"{:.2f}\".format(dnu_to_dv(param_dict[\"res\"]*1e3, param_dict[\"freq\"]*1e9)),\n",
    "    ]\n",
    "\n",
    "def get_beam_str(beam):\n",
    "    bmajbmin = \"{:.2f}$\\\\times${:.2f}\".format(*beam[:2]).replace(\".\", \"$\\\\farcs$\")\n",
    "    bpa = \"({:.2g}$\\\\arcdeg$)\".format(beam[2])\n",
    "    return \" \".join([bmajbmin, bpa])\n",
    "    \n",
    "get_beam_str((0.1, 0.1, 46))"
   ]
  },
  {
   "cell_type": "code",
   "execution_count": 58,
   "metadata": {},
   "outputs": [
    {
     "data": {
      "text/html": [
       "<div><i>Table length=3</i>\n",
       "<table id=\"table139885221850704\" class=\"table-striped table-bordered table-condensed\">\n",
       "<thead><tr><th>Molecule</th><th>Transition</th><th>Rest Frequency</th><th>$E_\\mathrm{up}$</th><th>Spectral Resolution</th><th>Channel Width</th><th>Beam Size (PA)</th><th>RMS</th></tr></thead>\n",
       "<thead><tr><th></th><th></th><th>[GHz]</th><th>[K]</th><th>[km s$^{-1}$]</th><th>[km s$^{-1}$]</th><th></th><th>[mJy beam$^{-1}$]</th></tr></thead>\n",
       "<thead><tr><th>str9</th><th>str12</th><th>str11</th><th>str4</th><th>str4</th><th>str4</th><th>str45</th><th>str3</th></tr></thead>\n",
       "<tr><td>$^{13}$CO</td><td>2--1</td><td>220.3986842</td><td>15.9</td><td>0.17</td><td>0.20</td><td>0$\\farcs$13$\\times$0$\\farcs$11 (8.9$\\arcdeg$)</td><td>2.3</td></tr>\n",
       "<tr><td>C$^{18}$O</td><td>2--1</td><td>219.5603541</td><td>15.8</td><td>0.17</td><td>0.20</td><td>0$\\farcs$13$\\times$0$\\farcs$10 (13$\\arcdeg$)</td><td>1.7</td></tr>\n",
       "<tr><td>SO</td><td>6$_5$--5$_4$</td><td>219.949442</td><td>35</td><td>0.17</td><td>0.20</td><td>0$\\farcs$13$\\times$0$\\farcs$10 (15$\\arcdeg$)</td><td>2.1</td></tr>\n",
       "</table></div>"
      ],
      "text/plain": [
       "<Table length=3>\n",
       " Molecule  Transition  ...        RMS       \n",
       "                       ... [mJy beam$^{-1}$]\n",
       "   str9      str12     ...        str3      \n",
       "--------- ------------ ... -----------------\n",
       "$^{13}$CO         2--1 ...               2.3\n",
       "C$^{18}$O         2--1 ...               1.7\n",
       "       SO 6$_5$--5$_4$ ...               2.1"
      ]
     },
     "execution_count": 58,
     "metadata": {},
     "output_type": "execute_result"
    }
   ],
   "source": [
    "columns = [\n",
    "    \"Molecule\",\n",
    "    \"Transition\",\n",
    "    \"Rest Frequency\",\n",
    "    \"$E_\\\\mathrm{up}$\",\n",
    "    \"Spectral Resolution\",\n",
    "    \"Channel Width\",\n",
    "    \"Beam Size (PA)\",\n",
    "    \"RMS\",\n",
    "]\n",
    "units = [\"\", \"\", \"[GHz]\", \"[K]\", \"[km s$^{-1}$]\", \"[km s$^{-1}$]\", \"\", \"[mJy beam$^{-1}$]\"]\n",
    "dtype = [str] * len(units)\n",
    "\n",
    "with open(\"./data/L1489IRS_linecube_statistics.pkl\", \"rb\") as f:\n",
    "    stat = pickle.load(f)\n",
    "\n",
    "table = Table(names=columns, dtype=dtype, units=units)\n",
    "# table.add_row(units)\n",
    "\n",
    "line_dict_keys = [\"qn\", \"freq\", \"E_u\", \"res\"]\n",
    "molecules = [\"13CO\", \"C18O\", \"SO\"]\n",
    "\n",
    "for line in molecules:\n",
    "    # get spectroscopic params\n",
    "    param_dict = line_dict[line]\n",
    "    if \"qn\" in line_dict[line].keys():\n",
    "        spectroparams = [linelabel_noqn[line]] + get_spectroscopic_param_list(param_dict)\n",
    "    else:\n",
    "        for i, t in enumerate(param_dict.keys()):\n",
    "            param_dict = param_dict[t]\n",
    "            if i == 0:\n",
    "                spectroparams = [linelabel_noqn[line]] + get_spectroscopic_param_list(param_dict)\n",
    "            else:\n",
    "                spectroparams = [\"\"] + get_spectroscopic_param_list(param_dict)\n",
    "\n",
    "    # data params\n",
    "    dataparams = [\n",
    "        \"{:.2f}\".format(stat[line][\"dchan\"]),\n",
    "        # \"{:.2f}$\\times${:.2f} ({:.2g})\".format(*stat[line][\"beam\"]),\n",
    "        get_beam_str(stat[line][\"beam\"]),\n",
    "        \"{:.2g}\".format(stat[line][\"rms\"] * 1e3),\n",
    "    ]\n",
    "\n",
    "    table.add_row(spectroparams+dataparams)\n",
    "table"
   ]
  },
  {
   "cell_type": "code",
   "execution_count": 59,
   "metadata": {},
   "outputs": [],
   "source": [
    "table.write(\"./latex/cube_property_table.txt\", format=\"aastex\", overwrite=True)"
   ]
  },
  {
   "cell_type": "code",
   "execution_count": null,
   "metadata": {},
   "outputs": [],
   "source": []
  },
  {
   "cell_type": "code",
   "execution_count": null,
   "metadata": {},
   "outputs": [],
   "source": []
  }
 ],
 "metadata": {
  "kernelspec": {
   "display_name": "Python 3.8.13 ('.venv': poetry)",
   "language": "python",
   "name": "python3"
  },
  "language_info": {
   "codemirror_mode": {
    "name": "ipython",
    "version": 3
   },
   "file_extension": ".py",
   "mimetype": "text/x-python",
   "name": "python",
   "nbconvert_exporter": "python",
   "pygments_lexer": "ipython3",
   "version": "3.8.13"
  },
  "orig_nbformat": 4,
  "vscode": {
   "interpreter": {
    "hash": "fbfa8ce56d31890a171bc01822f479f9df43edcb3c0a6f049b447de38eee46f7"
   }
  }
 },
 "nbformat": 4,
 "nbformat_minor": 2
}
