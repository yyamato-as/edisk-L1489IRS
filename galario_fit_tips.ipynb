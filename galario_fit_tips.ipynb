{
 "cells": [
  {
   "cell_type": "markdown",
   "metadata": {},
   "source": [
    "## Gridding\n",
    "- To reduce the calculation time, the gridding parameter must be adjusted\n",
    "- Too large/fine gridding will result in long calculation time, while too small/coarse gridding will have wrong results"
   ]
  },
  {
   "cell_type": "code",
   "execution_count": 7,
   "metadata": {},
   "outputs": [
    {
     "name": "stdout",
     "output_type": "stream",
     "text": [
      "dxy:6.607305e-03arcsec\tnxy_MRS:2048\n",
      "nxy_MRS: matrix size to have FOV > f_min * MRS, where f_min:1.0 and MRS:1.353176e+01arcsec\n"
     ]
    }
   ],
   "source": [
    "from visibility import Visibility\n",
    "from galario.double import get_image_size\n",
    "\n",
    "### check ``get_image_size'' function\n",
    "vis = Visibility(\"./visibility/L1489IRS_continuum_shift.split.bin_30s.npz\")\n",
    "nxy, dxy = get_image_size(vis.u, vis.v, verbose=True, f_max=2.0, f_min=1.0)"
   ]
  },
  {
   "cell_type": "markdown",
   "metadata": {},
   "source": [
    "### Dependency of nxy and dxy on f_min in get_image_size function\n",
    "\n",
    "| f_min | nxy   | dxy (arcsec) | Expected calc. time |\n",
    "| :---  | :---  | :---         | :---                |\n",
    "| 1.0   | 2048  | 6.61e-3      | 4h10min             |\n",
    "| 2.0   | 4096  | 6.61e-3      | 4h50min             |\n",
    "| 2.1   | 8192  | 3.47e-3      | 8h50min             |  \n",
    "| 3.0   | 8192  | 4.96e-3      | 9h12min             |\n",
    "| 5.0   | 16384 | 4.96e-3      | 35h                 |\n",
    "\n",
    "- set f_max=2.0\n",
    "- calculation time is estimated for the case of nstep=5000 and nwalker=32 and nprocess=8 (looking at progressbar)\n",
    "- both f_max and f_min will change nxy and dxy -> affect the calculation time\n",
    "- galario documentation suggest to use f_min>3.0\n",
    "- but might be ok if such an extended emission does not appear?\n",
    "- check if a small f_min will affect the results -> f_min = 1.0 siginificantly change the results, f_min = 2.0 slightly changes the results, f_min = 2.1 is same as f_min = 3.0..."
   ]
  },
  {
   "cell_type": "markdown",
   "metadata": {},
   "source": []
  }
 ],
 "metadata": {
  "kernelspec": {
   "display_name": "Python 3.8.13 ('.venv': poetry)",
   "language": "python",
   "name": "python3"
  },
  "language_info": {
   "codemirror_mode": {
    "name": "ipython",
    "version": 3
   },
   "file_extension": ".py",
   "mimetype": "text/x-python",
   "name": "python",
   "nbconvert_exporter": "python",
   "pygments_lexer": "ipython3",
   "version": "3.8.13"
  },
  "orig_nbformat": 4,
  "vscode": {
   "interpreter": {
    "hash": "fbfa8ce56d31890a171bc01822f479f9df43edcb3c0a6f049b447de38eee46f7"
   }
  }
 },
 "nbformat": 4,
 "nbformat_minor": 2
}
