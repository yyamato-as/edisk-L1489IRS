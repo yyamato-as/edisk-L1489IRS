{
 "cells": [
  {
   "cell_type": "code",
   "execution_count": 1,
   "metadata": {},
   "outputs": [],
   "source": [
    "from qdisk.classes import FitsImage\n",
    "import analysis_utils as au\n",
    "%matplotlib widget\n",
    "%load_ext autoreload\n",
    "%autoreload 2\n",
    "\n",
    "source = \"L1489IRS\"\n",
    "config = \"SBLB\""
   ]
  },
  {
   "cell_type": "code",
   "execution_count": 8,
   "metadata": {},
   "outputs": [],
   "source": [
    "linelist = [\"13CO\", \"C18O\", \"SO\"]\n",
    "robust = {\"12CO\": 1.0, \"13CO\": 1.0, \"C18O\": 1.0, \"SO\": 1.0}\n",
    "dv = {\"12CO\": 0.8, \"13CO\": 0.2, \"C18O\": 0.2, \"SO\": 0.2}\n",
    "\n",
    "cube_statistics = {}\n",
    "\n",
    "for line in linelist:\n",
    "    imagename = \"/works/yamato/eDisk/L1489IRS/custom_images/\" + au.get_image_basename(source, config, line, robust=robust[line], dv=dv[line], type=\"pbcor\")\n",
    "    image = FitsImage(imagename)\n",
    "    image.estimate_rms(edgenchan=2, rmax=5)\n",
    "\n",
    "    cube_statistics[line] = {\"fitsname\": imagename, \"rms\": image.rms, \"beam\": image.beam, \"dchan\": image.dchan}\n",
    "\n",
    "savefilename = \"./data/L1489IRS_linecube_statistics.pkl\"\n",
    "\n",
    "import pickle\n",
    "with open(savefilename, \"wb\") as f:\n",
    "    pickle.dump(cube_statistics, f, protocol=pickle.HIGHEST_PROTOCOL)"
   ]
  },
  {
   "cell_type": "code",
   "execution_count": 9,
   "metadata": {},
   "outputs": [
    {
     "data": {
      "text/plain": [
       "{'13CO': {'fitsname': '/works/yamato/eDisk/L1489IRS/custom_images/L1489IRS_SBLB_13CO_robust_1.0_dv0.2.pbcor.fits',\n",
       "  'rms': 0.002315665,\n",
       "  'beam': (0.134055698179644, 0.105293771464176, 8.893158665841),\n",
       "  'dchan': 0.1999999999971862},\n",
       " 'C18O': {'fitsname': '/works/yamato/eDisk/L1489IRS/custom_images/L1489IRS_SBLB_C18O_robust_1.0_dv0.2.pbcor.fits',\n",
       "  'rms': 0.0017180596,\n",
       "  'beam': (0.131048278792416, 0.101545841604564, 12.56425393531),\n",
       "  'dchan': 0.19999999994382453},\n",
       " 'SO': {'fitsname': '/works/yamato/eDisk/L1489IRS/custom_images/L1489IRS_SBLB_SO_robust_1.0_dv0.2.pbcor.fits',\n",
       "  'rms': 0.0020872732,\n",
       "  'beam': (0.131999666433408, 0.103776964521408, 15.17721858537),\n",
       "  'dchan': 0.200000000021736}}"
      ]
     },
     "execution_count": 9,
     "metadata": {},
     "output_type": "execute_result"
    }
   ],
   "source": [
    "cube_statistics"
   ]
  },
  {
   "cell_type": "code",
   "execution_count": null,
   "metadata": {},
   "outputs": [],
   "source": []
  }
 ],
 "metadata": {
  "kernelspec": {
   "display_name": "Python 3.8.12 ('.venv': poetry)",
   "language": "python",
   "name": "python3"
  },
  "language_info": {
   "codemirror_mode": {
    "name": "ipython",
    "version": 3
   },
   "file_extension": ".py",
   "mimetype": "text/x-python",
   "name": "python",
   "nbconvert_exporter": "python",
   "pygments_lexer": "ipython3",
   "version": "3.8.13"
  },
  "orig_nbformat": 4,
  "vscode": {
   "interpreter": {
    "hash": "fbfa8ce56d31890a171bc01822f479f9df43edcb3c0a6f049b447de38eee46f7"
   }
  }
 },
 "nbformat": 4,
 "nbformat_minor": 2
}
