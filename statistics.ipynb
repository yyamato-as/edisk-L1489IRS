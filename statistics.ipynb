{
 "cells": [
  {
   "cell_type": "code",
   "execution_count": 1,
   "metadata": {},
   "outputs": [],
   "source": [
    "from qdisk.classes import FitsImage\n",
    "import analysis_utils as au\n",
    "%matplotlib widget\n",
    "%load_ext autoreload\n",
    "%autoreload 2\n",
    "\n",
    "source = \"L1489IRS\"\n",
    "config = \"SBLB\""
   ]
  },
  {
   "cell_type": "code",
   "execution_count": 5,
   "metadata": {},
   "outputs": [],
   "source": [
    "linelist = [\"12CO\", \"13CO\", \"C18O\", \"SO\"]\n",
    "robust = {\"12CO\": 0.5, \"13CO\": 0.5, \"C18O\": 1.0, \"SO\": 1.0}\n",
    "\n",
    "cube_statistics = {}\n",
    "\n",
    "for line in linelist:\n",
    "    imagename = au.customimagepath + au.get_image_basename(source, config, line, robust=robust[line])\n",
    "    image = FitsImage(imagename)\n",
    "    image.estimate_rms(edgenchan=3)\n",
    "\n",
    "    cube_statistics[line] = {\"fitsname\": imagename, \"rms\": image.rms}\n",
    "\n",
    "savefilename = au.analysisdatapath + \"L1489IRS_linecube_statistics.pkl\"\n",
    "\n",
    "import pickle\n",
    "with open(savefilename, \"wb\") as f:\n",
    "    pickle.dump(cube_statistics, f, protocol=pickle.HIGHEST_PROTOCOL)"
   ]
  },
  {
   "cell_type": "code",
   "execution_count": 6,
   "metadata": {},
   "outputs": [
    {
     "data": {
      "text/plain": [
       "{'12CO': {'fitsname': '/raid/work/yamato/edisk_data/L1489IRS/custom_images/L1489IRS_SBLB_12CO_robust_0.5.image.fits',\n",
       "  'rms': 0.0010588379},\n",
       " '13CO': {'fitsname': '/raid/work/yamato/edisk_data/L1489IRS/custom_images/L1489IRS_SBLB_13CO_robust_0.5.image.fits',\n",
       "  'rms': 0.0023397414},\n",
       " 'C18O': {'fitsname': '/raid/work/yamato/edisk_data/L1489IRS/custom_images/L1489IRS_SBLB_C18O_robust_1.0.image.fits',\n",
       "  'rms': 0.0014196665},\n",
       " 'SO': {'fitsname': '/raid/work/yamato/edisk_data/L1489IRS/custom_images/L1489IRS_SBLB_SO_robust_1.0.image.fits',\n",
       "  'rms': 0.001707708}}"
      ]
     },
     "execution_count": 6,
     "metadata": {},
     "output_type": "execute_result"
    }
   ],
   "source": [
    "cube_statistics"
   ]
  },
  {
   "cell_type": "code",
   "execution_count": null,
   "metadata": {},
   "outputs": [],
   "source": []
  }
 ],
 "metadata": {
  "kernelspec": {
   "display_name": "Python 3.8.12 ('.venv': poetry)",
   "language": "python",
   "name": "python3"
  },
  "language_info": {
   "codemirror_mode": {
    "name": "ipython",
    "version": 3
   },
   "file_extension": ".py",
   "mimetype": "text/x-python",
   "name": "python",
   "nbconvert_exporter": "python",
   "pygments_lexer": "ipython3",
   "version": "3.8.12"
  },
  "orig_nbformat": 4,
  "vscode": {
   "interpreter": {
    "hash": "fbfa8ce56d31890a171bc01822f479f9df43edcb3c0a6f049b447de38eee46f7"
   }
  }
 },
 "nbformat": 4,
 "nbformat_minor": 2
}
