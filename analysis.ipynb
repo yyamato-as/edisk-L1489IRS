{
 "cells": [
  {
   "cell_type": "code",
   "execution_count": null,
   "metadata": {},
   "outputs": [],
   "source": [
    "from qdisk.classes import FitsImage\n",
    "import analysis_utils as au\n",
    "\n",
    "source = \"L1489IRS\"\n",
    "line = \"C18O\"\n",
    "config = \"SBLB\"\n",
    "\n",
    "imagename = au.VADPpath + au.get_image_basename(source=source, baseline=config, line=line, robust=1.0)"
   ]
  }
 ],
 "metadata": {
  "language_info": {
   "name": "python"
  },
  "orig_nbformat": 4
 },
 "nbformat": 4,
 "nbformat_minor": 2
}
