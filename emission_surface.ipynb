{
 "cells": [
  {
   "cell_type": "code",
   "execution_count": 1,
   "metadata": {},
   "outputs": [
    {
     "name": "stdout",
     "output_type": "stream",
     "text": [
      "Using version \u001b[1m^1.1.2\u001b[0m for \u001b[36mdisksurf\u001b[0m\n",
      "\n",
      "\u001b[34mUpdating dependencies\u001b[0m\n",
      "\u001b[2K\u001b[34mResolving dependencies...\u001b[0m \u001b[39;2m(48.9s)\u001b[0m[34mResolving dependencies...\u001b[0m \u001b[39;2m(4.0s)\u001b[0m\u001b[34mResolving dependencies...\u001b[0m \u001b[39;2m(15.5s)\u001b[0m\u001b[34mResolving dependencies...\u001b[0m \u001b[39;2m(16.3s)\u001b[0m\u001b[34mResolving dependencies...\u001b[0m \u001b[39;2m(31.3s)\u001b[0m\u001b[34mResolving dependencies...\u001b[0m \u001b[39;2m(31.4s)\u001b[0m\u001b[34mResolving dependencies...\u001b[0m \u001b[39;2m(35.8s)\u001b[0m\n",
      "\n",
      "\u001b[34mWriting lock file\u001b[0m\n",
      "\n",
      "\u001b[1mPackage operations\u001b[0m: \u001b[34m1\u001b[0m install, \u001b[34m0\u001b[0m updates, \u001b[34m0\u001b[0m removals\n",
      "\n",
      "  \u001b[34;1m•\u001b[0m \u001b[39mInstalling \u001b[0m\u001b[36mdisksurf\u001b[0m\u001b[39m (\u001b[0m\u001b[39;1m1.1.2.post2\u001b[0m\u001b[39m)\u001b[0m: \u001b[34mPending...\u001b[0m\n",
      "\u001b[1A\u001b[0J  \u001b[34;1m•\u001b[0m \u001b[39mInstalling \u001b[0m\u001b[36mdisksurf\u001b[0m\u001b[39m (\u001b[0m\u001b[39;1m1.1.2.post2\u001b[0m\u001b[39m)\u001b[0m: \u001b[34mDownloading...\u001b[0m \u001b[1m0%\u001b[0m\n",
      "\u001b[1A\u001b[0J  \u001b[34;1m•\u001b[0m \u001b[39mInstalling \u001b[0m\u001b[36mdisksurf\u001b[0m\u001b[39m (\u001b[0m\u001b[39;1m1.1.2.post2\u001b[0m\u001b[39m)\u001b[0m: \u001b[34mDownloading...\u001b[0m \u001b[1m100%\u001b[0m\n",
      "\u001b[1A\u001b[0J  \u001b[34;1m•\u001b[0m \u001b[39mInstalling \u001b[0m\u001b[36mdisksurf\u001b[0m\u001b[39m (\u001b[0m\u001b[39;1m1.1.2.post2\u001b[0m\u001b[39m)\u001b[0m: \u001b[34mDownloading...\u001b[0m \u001b[1m100%\u001b[0m\n",
      "\u001b[1A\u001b[0J  \u001b[34;1m•\u001b[0m \u001b[39mInstalling \u001b[0m\u001b[36mdisksurf\u001b[0m\u001b[39m (\u001b[0m\u001b[39;1m1.1.2.post2\u001b[0m\u001b[39m)\u001b[0m: \u001b[34mInstalling...\u001b[0m\n",
      "\u001b[1A\u001b[0J  \u001b[32;1m•\u001b[0m \u001b[39mInstalling \u001b[0m\u001b[36mdisksurf\u001b[0m\u001b[39m (\u001b[0m\u001b[32m1.1.2.post2\u001b[0m\u001b[39m)\u001b[0m\n"
     ]
    }
   ],
   "source": [
    "!poetry add disksurf"
   ]
  },
  {
   "cell_type": "code",
   "execution_count": null,
   "metadata": {},
   "outputs": [],
   "source": []
  }
 ],
 "metadata": {
  "kernelspec": {
   "display_name": "Python 3.8.13 ('.venv': poetry)",
   "language": "python",
   "name": "python3"
  },
  "language_info": {
   "codemirror_mode": {
    "name": "ipython",
    "version": 3
   },
   "file_extension": ".py",
   "mimetype": "text/x-python",
   "name": "python",
   "nbconvert_exporter": "python",
   "pygments_lexer": "ipython3",
   "version": "3.8.13"
  },
  "orig_nbformat": 4,
  "vscode": {
   "interpreter": {
    "hash": "fbfa8ce56d31890a171bc01822f479f9df43edcb3c0a6f049b447de38eee46f7"
   }
  }
 },
 "nbformat": 4,
 "nbformat_minor": 2
}
